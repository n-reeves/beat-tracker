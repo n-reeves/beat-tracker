{
 "cells": [
  {
   "cell_type": "markdown",
   "metadata": {},
   "source": [
    "## Beat Tracking Application"
   ]
  },
  {
   "cell_type": "code",
   "execution_count": 3,
   "metadata": {},
   "outputs": [],
   "source": [
    "import numpy as np\n",
    "from beattracker.utilities import load_file\n",
    "from beattracker.onsetdetector import OnsetDetector\n",
    "from beattracker.clustering import cluster_ioi\n",
    "from beattracker.agentsystem import agent_track\n",
    "from beattracker.downbeats import get_downbeats"
   ]
  },
  {
   "cell_type": "code",
   "execution_count": 4,
   "metadata": {},
   "outputs": [],
   "source": [
    "def BeatTracker(filepath):\n",
    "    \"\"\"Returns predictions and downbears as numpy arrays of event times\n",
    "    Args:\n",
    "        filepath str: path to file\n",
    "    Returns:\n",
    "        np.array, np.array: prediction beats and downbeats\n",
    "    \"\"\"\n",
    "    #Parameters used in different components of the systems\n",
    "    peak_picking_params = {'wd': 1,\n",
    "                    'lam': 0.5499999999999999,\n",
    "                    'al': 0.9599999999999999,\n",
    "                    'w': 39,\n",
    "                    'm': 1,\n",
    "                    'bpm': False,\n",
    "                    'win_sec': 0.04,\n",
    "                    'hop_sec': 0.01,\n",
    "                    'odfs': ['SF']}\n",
    "    \n",
    "    cluster_ioi_params = {'cw': .025, 'bpm_l': 40, 'bpm_u': 230}\n",
    "\n",
    "    agent_params = {'su':5, 'iw': .040, 'cf':39, 'to': 5}\n",
    "    \n",
    "    #Load File\n",
    "    x, sr = load_file(filepath)\n",
    "    \n",
    "    #Create OnsetDectector object\n",
    "    onset_detector = OnsetDetector(x, sr, peak_picking_params)\n",
    "    \n",
    "    #Sets onsets\n",
    "    onset_detector.set_onsets()\n",
    "    \n",
    "    #1 dim np array of pairwise distances between onsets\n",
    "    iois = onset_detector.get_iois()\n",
    "    \n",
    "    #1 dim np array of onset event times\n",
    "    events = onset_detector.get_peak_times()\n",
    "    \n",
    "    #1 dim np array of indices that correspond onset poisitions in the full odf\n",
    "    event_odf_ind = onset_detector.get_peak_indexs()\n",
    "    \n",
    "    #1 dim np array of spectral flux values corresponding to events. Used for salience scoring\n",
    "    odf_sal = onset_detector.get_peak_odf()\n",
    "    \n",
    "    #scalar value representing the odf frame length in seconds\n",
    "    frame_sec = onset_detector.get_frame_secs()\n",
    "    \n",
    "    #Returns the 5 cluster centers of iois with the highest scores\n",
    "    clusters = cluster_ioi(iois, cluster_ioi_params)\n",
    "    \n",
    "    #runs agent system. returns a list of beat times in seconds as well as the indices of the events in the full odf\n",
    "    preds, pred_ind  = agent_track(clusters, events, odf_sal, frame_sec, event_odf_ind, agent_params)\n",
    "    \n",
    "    if len(preds) == 0:\n",
    "        downbeats = np.array([])\n",
    "    else:\n",
    "        # get the full normalized odf used to score salinece\n",
    "        odf_sal_norm_full = onset_detector.get_odf_norm()\n",
    "        downbeats = get_downbeats(preds, pred_ind, odf_sal_norm_full)\n",
    "    \n",
    "    return preds, downbeats\n",
    "    "
   ]
  },
  {
   "cell_type": "code",
   "execution_count": 5,
   "metadata": {},
   "outputs": [
    {
     "name": "stderr",
     "output_type": "stream",
     "text": [
      "/Users/nickreeves/Desktop/MSC/Sem_2/MI/CW1_BT/Submission/beattracker/odf.py:57: ComplexWarning: Casting complex values to real discards the imaginary part\n",
      "  odf[sf_index,frame_num] = sf\n"
     ]
    }
   ],
   "source": [
    "preds, downbeats = BeatTracker('path/to/file.wav')"
   ]
  },
  {
   "cell_type": "code",
   "execution_count": null,
   "metadata": {},
   "outputs": [],
   "source": []
  }
 ],
 "metadata": {
  "kernelspec": {
   "display_name": "Python 3",
   "language": "python",
   "name": "python3"
  },
  "language_info": {
   "codemirror_mode": {
    "name": "ipython",
    "version": 3
   },
   "file_extension": ".py",
   "mimetype": "text/x-python",
   "name": "python",
   "nbconvert_exporter": "python",
   "pygments_lexer": "ipython3",
   "version": "3.11.5"
  },
  "orig_nbformat": 4
 },
 "nbformat": 4,
 "nbformat_minor": 2
}
